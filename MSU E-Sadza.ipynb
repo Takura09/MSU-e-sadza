{
 "cells": [
  {
   "cell_type": "code",
   "execution_count": 2,
   "id": "82c8c980",
   "metadata": {},
   "outputs": [
    {
     "ename": "ModuleNotFoundError",
     "evalue": "No module named 'mysql'",
     "output_type": "error",
     "traceback": [
      "\u001b[1;31m---------------------------------------------------------------------------\u001b[0m",
      "\u001b[1;31mModuleNotFoundError\u001b[0m                       Traceback (most recent call last)",
      "\u001b[1;32mc:\\wamp64\\www\\MSU E-Sadza\\MSU E-Sadza.ipynb Cell 1\u001b[0m in \u001b[0;36m<cell line: 1>\u001b[1;34m()\u001b[0m\n\u001b[1;32m----> <a href='vscode-notebook-cell:/c%3A/wamp64/www/MSU%20E-Sadza/MSU%20E-Sadza.ipynb#ch0000000?line=0'>1</a>\u001b[0m \u001b[39mimport\u001b[39;00m \u001b[39mmysql\u001b[39;00m\u001b[39m.\u001b[39;00m\u001b[39mconnector\u001b[39;00m\n\u001b[0;32m      <a href='vscode-notebook-cell:/c%3A/wamp64/www/MSU%20E-Sadza/MSU%20E-Sadza.ipynb#ch0000000?line=1'>2</a>\u001b[0m \u001b[39mimport\u001b[39;00m \u001b[39mpandas\u001b[39;00m \u001b[39mas\u001b[39;00m \u001b[39mpd\u001b[39;00m\n",
      "\u001b[1;31mModuleNotFoundError\u001b[0m: No module named 'mysql'"
     ]
    }
   ],
   "source": [
    "import mysql.connector\n",
    "import pandas as pd"
   ]
  },
  {
   "cell_type": "markdown",
   "id": "aafc70ac",
   "metadata": {},
   "source": [
    "# Connect to database"
   ]
  },
  {
   "cell_type": "code",
   "execution_count": null,
   "id": "02cfbb88",
   "metadata": {},
   "outputs": [],
   "source": [
    "import mysql.connector\n",
    "\n",
    "mydb = mysql.connector.connect(\n",
    "  host=\"localhost\",\n",
    "  user=\"root\",\n",
    "  password=\"\",\n",
    "  database=\"msu e-sadza\"\n",
    ")\n",
    "\n",
    "print (\"msu e-sadza\")"
   ]
  },
  {
   "cell_type": "markdown",
   "id": "983e45f6",
   "metadata": {},
   "source": [
    "# Register students into E-Sadza system"
   ]
  },
  {
   "cell_type": "code",
   "execution_count": null,
   "id": "421b6168",
   "metadata": {},
   "outputs": [],
   "source": [
    "print(\"Please create E-Sadza account\")\n",
    "reg_number = input(\"Enter Reg Number\")\n",
    "username = input(\"Enter username\")\n",
    "password = input (\"Enter password\")\n",
    "mycursor = mydb.cursor()\n",
    "sql = \"INSERT INTO login (username, password,reg_number) VALUES (%s, %s,%s)\"\n",
    "val = (username,password,reg_number)\n",
    "mycursor.execute(sql, val)\n",
    "\n",
    "mydb.commit()\n",
    "\n",
    "print(mycursor.rowcount, \"record inserted.\")"
   ]
  },
  {
   "cell_type": "markdown",
   "id": "7d67eb23",
   "metadata": {},
   "source": [
    "# Add money to student Account"
   ]
  },
  {
   "cell_type": "code",
   "execution_count": null,
   "id": "9c27c874",
   "metadata": {},
   "outputs": [],
   "source": [
    "print(\"Add amount to account\")\n",
    "reg_number = input(\"Enter Reg Number\")\n",
    "mycursor = mydb.cursor()\n",
    "\n",
    "sql = \"SELECT * FROM login WHERE reg_number = %s\"\n",
    "val = (reg_number,)\n",
    "mycursor.execute(sql, val)\n",
    "myresult = mycursor.fetchall()\n",
    "\n",
    "if len(myresult)==0:\n",
    "    print(\"Student is not registered\")\n",
    "else:\n",
    "    amount = float(input(\"Enter amount\"))\n",
    "    sql = \"SELECT amount FROM account WHERE reg_number = %s\"\n",
    "    val = (reg_number,)\n",
    "    mycursor.execute(sql, val)\n",
    "    myresult = mycursor.fetchall()\n",
    "    if len(myresult)==0:\n",
    "        sql = \"INSERT INTO account (reg_number, amount) VALUES (%s, %s)\"\n",
    "        val = (reg_number,amount)\n",
    "        mycursor.execute(sql, val)\n",
    "        mydb.commit()\n",
    "    else:\n",
    "        amount = amount + myresult[0][0]\n",
    "        sql = \"UPDATE account set amount = %s where reg_number = %s\"\n",
    "        val = (amount,reg_number)\n",
    "        mycursor.execute(sql, val)\n",
    "        mydb.commit()\n"
   ]
  },
  {
   "cell_type": "markdown",
   "id": "ff02cf57",
   "metadata": {},
   "source": [
    "# Get all products from database"
   ]
  },
  {
   "cell_type": "code",
   "execution_count": null,
   "id": "3ef500a9",
   "metadata": {},
   "outputs": [],
   "source": [
    "products = []\n",
    "mycursor = mydb.cursor()\n",
    "sql = \"SELECT * FROM product_list\"\n",
    "mycursor.execute(sql)\n",
    "myresult = mycursor.fetchall()\n",
    "for x in myresult:\n",
    "    products.append(list(x))\n",
    "df = pd.DataFrame(products,columns=[\"ID\",\"Product\",\"Price/$\"])\n",
    "df"
   ]
  },
  {
   "cell_type": "markdown",
   "id": "88ea8aa8",
   "metadata": {},
   "source": [
    "# Buy from Canteen"
   ]
  },
  {
   "cell_type": "code",
   "execution_count": null,
   "id": "f805e547",
   "metadata": {},
   "outputs": [],
   "source": [
    "print(\"Enter Product ID to cart,press 0 to stop\")\n",
    "reg_number = int(input(\"Enter Reg Number\"))\n",
    "sql = \"SELECT amount FROM account WHERE reg_number = %s\"\n",
    "val = (reg_number,)\n",
    "mycursor.execute(sql, val)\n",
    "myresult = mycursor.fetchall()\n",
    "total_amount = 0\n",
    "if len(myresult)==0:\n",
    "    print(\"Student not registered\")\n",
    "else:\n",
    "    total_amount = myresult[0][0]\n",
    "\n",
    "\n",
    "cart_product = int(input(\"Enter product ID\"))\n",
    "cart= []\n",
    "while cart_product != 0:\n",
    "    if cart_product not in list(df.ID):\n",
    "        print(\"Product ID does not exist\")\n",
    "    elif cart_product in cart:\n",
    "        print(\"Product already in cart\")\n",
    "    else:\n",
    "        sql = \"SELECT price FROM product_list WHERE id = %s\"\n",
    "        val = (cart_product,)\n",
    "        mycursor.execute(sql, val)\n",
    "        myresult = mycursor.fetchall()\n",
    "        cart.append(myresult[0][0])\n",
    "    cart_product = int(input(\"Enter product ID\"))\n",
    "\n",
    "if sum(cart) > total_amount:\n",
    "    print(\"Not enough funds in account\")\n",
    "else:\n",
    "    amount = total_amount - sum(cart)\n",
    "    sql = \"UPDATE account set amount = %s where reg_number = %s\"\n",
    "    val = (amount,reg_number)\n",
    "    mycursor.execute(sql, val)\n",
    "    mydb.commit()"
   ]
  },
  {
   "cell_type": "markdown",
   "id": "712298aa",
   "metadata": {},
   "source": [
    "# Check Student Balance"
   ]
  },
  {
   "cell_type": "code",
   "execution_count": null,
   "id": "84d53267",
   "metadata": {},
   "outputs": [],
   "source": [
    "reg_number = input(\"Enter Reg Number\")\n",
    "sql = \"SELECT amount FROM account WHERE reg_number = %s\"\n",
    "val = (reg_number,)\n",
    "mycursor.execute(sql, val)\n",
    "myresult = mycursor.fetchall()\n",
    "print(myresult[0][0])"
   ]
  },
  {
   "cell_type": "markdown",
   "id": "2018ac3c",
   "metadata": {},
   "source": [
    "# Check Student Details"
   ]
  },
  {
   "cell_type": "code",
   "execution_count": null,
   "id": "1ea7bd39",
   "metadata": {},
   "outputs": [],
   "source": [
    "reg_number = input(\"Enter Reg Number\")\n",
    "sql = \"SELECT * FROM login WHERE reg_number = %s\"\n",
    "val = (reg_number,)\n",
    "mycursor.execute(sql, val)\n",
    "myresult = mycursor.fetchall()\n",
    "print(myresult[0])"
   ]
  },
  {
   "cell_type": "code",
   "execution_count": null,
   "id": "78bae6f3",
   "metadata": {},
   "outputs": [],
   "source": []
  }
 ],
 "metadata": {
  "kernelspec": {
   "display_name": "Python 3.10.5 64-bit",
   "language": "python",
   "name": "python3"
  },
  "language_info": {
   "codemirror_mode": {
    "name": "ipython",
    "version": 3
   },
   "file_extension": ".py",
   "mimetype": "text/x-python",
   "name": "python",
   "nbconvert_exporter": "python",
   "pygments_lexer": "ipython3",
   "version": "3.10.5"
  },
  "vscode": {
   "interpreter": {
    "hash": "4ced234c871c9b29a4056513ccc24c81d69a18e49ff88a0b6b2ad2f395e3caca"
   }
  }
 },
 "nbformat": 4,
 "nbformat_minor": 5
}
